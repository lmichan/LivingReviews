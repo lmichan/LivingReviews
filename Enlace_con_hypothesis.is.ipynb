{
  "nbformat": 4,
  "nbformat_minor": 0,
  "metadata": {
    "colab": {
      "provenance": [],
      "authorship_tag": "ABX9TyOhpqVi1oNzcs5aBdnMnqGx",
      "include_colab_link": true
    },
    "kernelspec": {
      "name": "python3",
      "display_name": "Python 3"
    },
    "language_info": {
      "name": "python"
    }
  },
  "cells": [
    {
      "cell_type": "markdown",
      "metadata": {
        "id": "view-in-github",
        "colab_type": "text"
      },
      "source": [
        "<a href=\"https://colab.research.google.com/github/lmichan/BIOliteraturaPE203625/blob/main/Enlace_con_Zotero.ipynb\" target=\"_parent\"><img src=\"https://colab.research.google.com/assets/colab-badge.svg\" alt=\"Open In Colab\"/></a>"
      ]
    },
    {
 "cell_type": "markdown",
      "source": [
        "# Análisis de la Biblioteca Zotero - Biología 2025\n",
        "\n",
        "Este cuaderno de Google Colab fue desarrollado por José Antonio Hernández Mondragón como parte del proyecto PAPIME PE203625.\n",
        "\n",
        "El propósito principal de este código es realizar un análisis detallado de la biblioteca Zotero correspondiente al curso de Biología 2025, con el fin de extraer información relevante, identificar patrones de uso, temáticas predominantes y apoyar la toma de decisiones en la gestión y mejora de los recursos bibliográficos disponibles.\n",
        "\n",
        "A lo largo del cuaderno se implementan herramientas de procesamiento de datos, visualización y análisis bibliométrico para obtener una visión integral del contenido y estructura de la biblioteca Zotero.\n",
        "\n",
        "## Conexión entre Zotero y Google Colab\n",
        "\n",
        "Para realizar el análisis de la biblioteca de Zotero desde Google Colab, es necesario establecer una conexión entre ambas plataformas utilizando la Zotero Web API. Esta API permite acceder a colecciones, referencias, metadatos y otros recursos almacenados en una cuenta o grupo de Zotero, lo cual facilita el procesamiento automatizado de los datos.\n",
        "\n",
        "## Requisitos de configuración\n",
        "\n",
        "Antes de comenzar el análisis, es necesario contar con dos elementos clave:\n",
        "\n",
        "* Zotero API Key\n",
        "\n",
        "* Group ID (en caso de trabajar con una biblioteca de grupo)\n",
        "\n",
        "### 1. Zotero API Key\n",
        "\n",
        "La API Key es una clave personal que otorga permisos para acceder a la biblioteca Zotero de forma segura. Para obtenerla, sigue estos pasos:\n",
        "\n",
        "* Accede a tu cuenta en Zotero.org.\n",
        "\n",
        "* Ve a Settings > Feeds/API.\n",
        "\n",
        "* En la sección de API Keys, haz clic en Create new private key.\n",
        "\n",
        "* Define los permisos de acceso (por ejemplo, lectura) y copia la clave generada.\n",
        "\n",
        "* Esta clave se utilizará en el código para autenticar las solicitudes a la API.\n",
        "\n",
        "### 2. Group ID\n",
        "\n",
        "Si estás trabajando con una biblioteca de grupo, también necesitas el identificador único del grupo. Para obtenerlo:\n",
        "\n",
        "* Ingresa al sitio de Zotero y selecciona tu grupo.\n",
        "\n",
        "* El Group ID se encuentra en la URL del grupo. Por ejemplo, en: https://www.zotero.org/groups/1234567/nombre_del_grupo\n",
        "\n",
        "* El número 1234567 es el Group ID que deberás usar.\n"
      ],
      "metadata": {
        "id": "fx0mCOp11n0E"
      }
    },
    {
      "cell_type": "code",
      "source": [
        "# CONFIGURA TU CLAVE Y GROUP ID\n",
        "\n",
        "import requests\n",
        "from collections import defaultdict, Counter\n",
        "from datetime import datetime\n",
        "import matplotlib.pyplot as plt\n",
        "import pandas as pd\n",
        "import seaborn as sns\n",
        "from wordcloud import WordCloud\n",
        "import random\n",
        "\n",
        "# Si es necesario se instala la libreria.\n",
        "# !pip install wordcloud matplotlib\n",
        "!pip install pyspellchecker\n",
        "\n",
        "# CONFIGURA TU CLAVE Y GROUP ID (Estos se obtienen en Zotero)\n",
        "API_KEY = \"l7nkDwrKLxASVprKSjbadbXs\"\n",
        "GROUP_ID = \"5866354\"\n",
        "HEADERS = {\"Zotero-API-Key\": API_KEY}\n"
      ],
      "metadata": {
        "id": "aLYrQCKOsy9i",
        "colab": {
          "base_uri": "https://localhost:8080/"
        },
        "outputId": "70de817b-6a28-4757-a292-c51a4938caad",
        "collapsed": true
      },
      "execution_count": 136,
      "outputs": [
        {
          "output_type": "stream",
          "name": "stdout",
          "text": [
            "Requirement already satisfied: pyspellchecker in /usr/local/lib/python3.12/dist-packages (0.8.3)\n"
          ]
        }
      ]
    },
    {
      "cell_type": "code",
      "source": [
        "API_KEY = \"l7nkDwrKLxASVprKSjbadbXs\"  # Tu clave\n",
        "GROUP_ID = \"5866354\"\n",
        "HEADERS = {\"Zotero-API-Key\": API_KEY}\n",
        "\n",
        "items = []\n",
        "url = f\"https://api.zotero.org/groups/{GROUP_ID}/items?limit=100\"\n",
        "\n",
        "while url:\n",
        "    response = requests.get(url, headers=HEADERS)\n",
        "    if response.status_code != 200:\n",
        "        print(\"❌ Error:\", response.status_code)\n",
        "        break\n",
        "\n",
        "    data = response.json()\n",
        "    if not data:\n",
        "        break\n",
        "\n",
        "    for item in data:\n",
        "        if \"data\" in item:\n",
        "            d = item[\"data\"]\n",
        "            tags = [t[\"tag\"] for t in d.get(\"tags\", [])]\n",
        "\n",
        "            items.append({\n",
        "                \"titulo\": d.get(\"title\"),\n",
        "                \"fecha_publicacion\": d.get(\"date\"),  # 👈 Usa el año o fecha de publicación real\n",
        "                \"tipo\": d.get(\"itemType\"),\n",
        "                \"etiquetas\": tags,\n",
        "                \"fecha\": d.get(\"dateAdded\") # 👈 Corrección aquí para usar la fecha de adición\n",
        "            })\n",
        "\n",
        "    # Manejo de paginación automática\n",
        "    if \"Link\" in response.headers:\n",
        "        links = response.headers[\"Link\"].split(\",\")\n",
        "        next_link = None\n",
        "        for link in links:\n",
        "            if 'rel=\"next\"' in link:\n",
        "                next_link = link[link.find(\"<\")+1:link.find(\">\")]\n",
        "        url = next_link\n",
        "    else:\n",
        "        url = None\n",
        "\n",
        "# Crear DataFrame\n",
        "df = pd.DataFrame(items)"
      ],
      "metadata": {
        "id": "Jd6RCEzKMxKO"
      },
      "execution_count": 137,
      "outputs": []
    },
    {
